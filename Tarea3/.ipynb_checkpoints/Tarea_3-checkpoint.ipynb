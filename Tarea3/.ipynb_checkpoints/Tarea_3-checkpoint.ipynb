version https://git-lfs.github.com/spec/v1
oid sha256:69729ac71f9beefa0d0f27461d6193e55691e719872766a98a5e78269607a65c
size 107906115
